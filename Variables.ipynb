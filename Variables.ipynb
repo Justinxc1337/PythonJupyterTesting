{
 "cells": [
  {
   "cell_type": "code",
   "execution_count": 1,
   "metadata": {},
   "outputs": [
    {
     "name": "stdout",
     "output_type": "stream",
     "text": [
      "hus 5 True 5.0\n"
     ]
    }
   ],
   "source": [
    "x = str(\"hus\")\n",
    "y = int(5)\n",
    "z = bool(True)\n",
    "v = float(5.0)\n",
    "\n",
    "print(x, y, z, v)\n",
    "\n"
   ]
  },
  {
   "cell_type": "code",
   "execution_count": 16,
   "metadata": {},
   "outputs": [
    {
     "name": "stdout",
     "output_type": "stream",
     "text": [
      "rød\n",
      "grøn\n",
      "blå\n",
      "gul\n",
      "\n",
      "\n",
      "rød\n",
      "grøn\n",
      "blå\n",
      "\n",
      "\n",
      "{'æble': 'rød', 'banan': 'gul', 'pære': 'grøn'}\n",
      "{'æble': 'rød', 'banan': 'gul', 'pære': 'grøn'}\n",
      "\n",
      "\n",
      "['rød', 'grøn', 'blå', 'gul']\n",
      "['rød', 'grøn', 'blå', 'gul']\n",
      "['rød', 'grøn', 'blå', 'gul']\n",
      "['rød', 'grøn', 'blå', 'gul']\n",
      "['rød', 'grøn', 'blå', 'gul']\n",
      "Færdig!\n",
      "\n",
      "\n",
      "0\n",
      "1\n",
      "2\n",
      "4\n"
     ]
    }
   ],
   "source": [
    "farver = [\"rød\", \"grøn\", \"blå\", \"gul\"]\n",
    "\n",
    "for farve in farver:\n",
    "    print(farve)\n",
    "    \n",
    "print(\"\\n\")\n",
    "    \n",
    "for i in farver:\n",
    "    print(i)\n",
    "    if i == \"blå\":\n",
    "        break\n",
    "    \n",
    "print(\"\\n\")\n",
    "    \n",
    "frugter = {\n",
    "    \"æble\": \"rød\",\n",
    "    \"banan\": \"gul\",\n",
    "    \"pære\": \"grøn\"\n",
    "}\n",
    "\n",
    "for i in range(2):\n",
    "    print(frugter)\n",
    "    \n",
    "print(\"\\n\")\n",
    "\n",
    "for f in range(5):\n",
    "    print(farver)\n",
    "else:\n",
    "    print(\"Færdig!\")\n",
    "   \n",
    "print(\"\\n\")\n",
    "\n",
    "for i in range(5):\n",
    "    if i == 3:\n",
    "        continue\n",
    "    print(i)\n"
   ]
  },
  {
   "cell_type": "code",
   "execution_count": 29,
   "metadata": {},
   "outputs": [
    {
     "name": "stdout",
     "output_type": "stream",
     "text": [
      "1\n",
      "2\n",
      "3\n",
      "4\n",
      "5\n",
      "6\n",
      "7\n",
      "8\n",
      "9\n",
      "10\n",
      "\n",
      "\n",
      "0\n",
      "1\n",
      "2\n",
      "3\n",
      "4\n",
      "5\n",
      "\n",
      "\n",
      "1\n",
      "1\n",
      "2\n",
      "2\n",
      "3\n",
      "3\n",
      "4\n",
      "4\n",
      "5\n",
      "6\n",
      "6\n",
      "7\n",
      "7\n",
      "8\n",
      "8\n",
      "9\n",
      "9\n",
      "10\n",
      "10\n",
      "\n",
      "\n",
      "1\n",
      "2\n",
      "Færdig!\n"
     ]
    }
   ],
   "source": [
    "i = 1\n",
    "\n",
    "while i <= 10:\n",
    "    print(i)\n",
    "    i += 1\n",
    "    \n",
    "print(\"\\n\")\n",
    "\n",
    "x = 0\n",
    "\n",
    "while x < 10:\n",
    "    print(x)\n",
    "    if x == 5:\n",
    "        break\n",
    "    x += 1\n",
    "    \n",
    "print(\"\\n\")\n",
    "\n",
    "cakeisalie = True\n",
    "f = 0\n",
    "\n",
    "while f < 10:\n",
    "    f += 1\n",
    "    print(f)\n",
    "    if f == 5 and cakeisalie == True:\n",
    "        continue\n",
    "    print(f)\n",
    "    \n",
    "print(\"\\n\")\n",
    "\n",
    "p = 1\n",
    "\n",
    "while p < 3:\n",
    "    print(p)\n",
    "    p += 1\n",
    "else:\n",
    "    print(\"Færdig!\")"
   ]
  },
  {
   "cell_type": "code",
   "execution_count": 35,
   "metadata": {},
   "outputs": [
    {
     "name": "stdout",
     "output_type": "stream",
     "text": [
      "a er lig med b\n"
     ]
    }
   ],
   "source": [
    "a = 2\n",
    "b = 2\n",
    "\n",
    "if a > b:\n",
    "    print(\"a er større end b\")\n",
    "elif a == b:\n",
    "    print(\"a er lig med b\")\n",
    "elif a < b:\n",
    "    print(\"a er mindre end b\")\n",
    "else:\n",
    "    print(\"fejl værdi\")"
   ]
  },
  {
   "cell_type": "code",
   "execution_count": 36,
   "metadata": {},
   "outputs": [
    {
     "name": "stdout",
     "output_type": "stream",
     "text": [
      "Hej med dig\n"
     ]
    }
   ],
   "source": [
    "def navn ():\n",
    "    print(\"Hej med dig\")\n",
    "    \n",
    "navn()"
   ]
  }
 ],
 "metadata": {
  "kernelspec": {
   "display_name": ".venv",
   "language": "python",
   "name": "python3"
  },
  "language_info": {
   "codemirror_mode": {
    "name": "ipython",
    "version": 3
   },
   "file_extension": ".py",
   "mimetype": "text/x-python",
   "name": "python",
   "nbconvert_exporter": "python",
   "pygments_lexer": "ipython3",
   "version": "3.12.2"
  }
 },
 "nbformat": 4,
 "nbformat_minor": 2
}
